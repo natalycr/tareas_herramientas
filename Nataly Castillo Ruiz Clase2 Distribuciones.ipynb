{
 "metadata": {
  "name": "Nataly Castillo Ruiz Clase2 Distribuciones"
 },
 "nbformat": 3,
 "nbformat_minor": 0,
 "worksheets": [
  {
   "cells": [
    {
     "cell_type": "code",
     "collapsed": false,
     "input": [
      "%pylab inline\n",
      "import numpy as np"
     ],
     "language": "python",
     "metadata": {},
     "outputs": [
      {
       "output_type": "stream",
       "stream": "stdout",
       "text": [
        "\n",
        "Welcome to pylab, a matplotlib-based Python environment [backend: module://IPython.kernel.zmq.pylab.backend_inline].\n",
        "For more information, type 'help(pylab)'.\n"
       ]
      }
     ],
     "prompt_number": 45
    },
    {
     "cell_type": "code",
     "collapsed": false,
     "input": [
      "#variables \n",
      "M=20 # numero de muestras\n",
      "N=1000 # numero de lanzamientos por muestra"
     ],
     "language": "python",
     "metadata": {},
     "outputs": [],
     "prompt_number": 110
    },
    {
     "cell_type": "code",
     "collapsed": false,
     "input": [
      "\n",
      "def listafrac(M,N):\n",
      "    \n",
      "    lista = []\n",
      "    caras = []\n",
      "    sellos = []\n",
      "        \n",
      "    for j in range (M):#recorre el numero de muestras \n",
      "        car=0.0\n",
      "        \n",
      "        for i in range (N): #recorre  el numero  de  lanzamientos por muestras \n",
      "            x=np.random.randint(2)\n",
      "            if  (x==1):\n",
      "                car=car+1 # suma si  es cara\n",
      "        lista.append(car/N)\n",
      "        caras.append(car)\n",
      "        sell=N-car\n",
      "        sellos.append(sell)\n",
      "        \n",
      "    return lista, caras, sellos\n",
      "    "
     ],
     "language": "python",
     "metadata": {},
     "outputs": [],
     "prompt_number": 111
    },
    {
     "cell_type": "code",
     "collapsed": false,
     "input": [
      "\n",
      "print listafrac(20,1000)\n",
      "\n",
      "\n",
      "print len(lista), len(caras), len(sellos)"
     ],
     "language": "python",
     "metadata": {},
     "outputs": [
      {
       "output_type": "stream",
       "stream": "stdout",
       "text": [
        "([0.5, 0.471, 0.497, 0.502, 0.477, 0.496, 0.542, 0.512, 0.513, 0.503, 0.51, 0.463, 0.516, 0.504, 0.504, 0.47, 0.501, 0.502, 0.496, 0.51], [500.0, 471.0, 497.0, 502.0, 477.0, 496.0, 542.0, 512.0, 513.0, 503.0, 510.0, 463.0, 516.0, 504.0, 504.0, 470.0, 501.0, 502.0, 496.0, 510.0], [500.0, 529.0, 503.0, 498.0, 523.0, 504.0, 458.0, 488.0, 487.0, 497.0, 490.0, 537.0, 484.0, 496.0, 496.0, 530.0, 499.0, 498.0, 504.0, 490.0])\n",
        "220 220 220\n"
       ]
      }
     ],
     "prompt_number": 112
    },
    {
     "cell_type": "code",
     "collapsed": false,
     "input": [
      "des = std(lista)\n",
      "pro = mean(lista)\n",
      "print \"desviacion estandar=\", std(lista), \" Promedio = \", mean(lista)"
     ],
     "language": "python",
     "metadata": {},
     "outputs": [
      {
       "output_type": "stream",
       "stream": "stdout",
       "text": [
        "desviacion estandar= 0.0338931997251  Promedio =  0.500168181818\n"
       ]
      }
     ],
     "prompt_number": 130
    },
    {
     "cell_type": "code",
     "collapsed": false,
     "input": [
      "x1=pro-des\n",
      "x2=pro+des\n",
      "y1=pro-(2*des)\n",
      "y2=pro+(2*des)\n",
      "z1=pro-(3*des)\n",
      "z2=pro+(3*des)\n",
      "\n",
      "datos = hist(lista, bins=15)\n",
      "axvline(x1, c='y')\n",
      "axvline(x2, c='y')\n",
      "axvline(y1, c='r')\n",
      "axvline(y2, c='r')\n",
      "axvline(z1,c='g')\n",
      "axvline(z2,c='g')"
     ],
     "language": "python",
     "metadata": {},
     "outputs": [
      {
       "output_type": "pyout",
       "prompt_number": 131,
       "text": [
        "<matplotlib.lines.Line2D at 0x2e19d50>"
       ]
      },
      {
       "output_type": "display_data",
       "png": "[encoded data removed]",
       "text": [
        "<matplotlib.figure.Figure at 0x2673b50>"
       ]
      }
     ],
     "prompt_number": 131
    },
    {
     "cell_type": "raw",
     "metadata": {},
     "source": [
      "Punto c \n",
      "0.45 - se encuentra en el segundo intervalo de confianza\n",
      "0.51 - se  encientra  en el  primer  intervalo de  confianza\n",
      "0.53 - se encuentra en el primer  intervalo de  confianza\n",
      "1.7 - se  encuentra fuera del tercer  intervalo\n"
     ]
    },
    {
     "cell_type": "code",
     "collapsed": false,
     "input": [
      "# Tarea  2 / graf  1\n",
      "i = 1000\n",
      "M2 = 20000\n",
      "datosplo = []\n",
      "ejex=[]\n",
      "while i <= M2: \n",
      "    x ,y , z= listafrac(20,i)\n",
      "    y_m = mean(y)\n",
      "    z_m = mean(z) \n",
      "    dato=(y_m-z_m)\n",
      "    datosplo.append(dato)\n",
      "    ejex.append(i)\n",
      "    i=i+1000\n",
      "\n",
      "scatter(ejex , datosplo)"
     ],
     "language": "python",
     "metadata": {},
     "outputs": [
      {
       "output_type": "pyout",
       "prompt_number": 128,
       "text": [
        "<matplotlib.collections.PathCollection at 0x26494d0>"
       ]
      },
      {
       "output_type": "display_data",
       "png": "[encoded data removed]",
       "text": [
        "<matplotlib.figure.Figure at 0x24d7ed0>"
       ]
      }
     ],
     "prompt_number": 128
    },
    {
     "cell_type": "code",
     "collapsed": false,
     "input": [
      "i = 1000\n",
      "M2 = 20000\n",
      "datosplo = []\n",
      "ejex=[]\n",
      "while i <= M2: \n",
      "    x ,y , z= listafrac(20,i)\n",
      "    y_m = mean(y)\n",
      "    z_m = mean(z) \n",
      "    dato=(y_m/z_m)\n",
      "    datosplo.append(dato)\n",
      "    ejex.append(i)\n",
      "    i=i+1000\n",
      "\n",
      "scatter(ejex , datosplo)"
     ],
     "language": "python",
     "metadata": {},
     "outputs": [
      {
       "output_type": "pyout",
       "prompt_number": 129,
       "text": [
        "<matplotlib.collections.PathCollection at 0x2c40a50>"
       ]
      },
      {
       "output_type": "display_data",
       "png": "[encoded data removed]",
       "text": [
        "<matplotlib.figure.Figure at 0x19917d0>"
       ]
      }
     ],
     "prompt_number": 129
    },
    {
     "cell_type": "code",
     "collapsed": false,
     "input": [],
     "language": "python",
     "metadata": {},
     "outputs": [],
     "prompt_number": 129
    },
    {
     "cell_type": "code",
     "collapsed": false,
     "input": [],
     "language": "python",
     "metadata": {},
     "outputs": []
    }
   ],
   "metadata": {}
  }
 ]
}